{
 "cells": [
  {
   "cell_type": "code",
   "execution_count": 472,
   "metadata": {},
   "outputs": [],
   "source": [
    "import random\n",
    "import numpy\n",
    "forest = []"
   ]
  },
  {
   "cell_type": "code",
   "execution_count": null,
   "metadata": {
    "collapsed": true
   },
   "outputs": [],
   "source": [
    "\"\"\"\n",
    "Test with made up data since I was on a flight didnt have internet. Data is using height \n",
    "stripes and spots to differenciate between humans giraffes and lions\n",
    "\"\"\"\n",
    "#[[attr1 min, attr1 max, attr1 changerange], [attr2 min, attr2 max, attr2 changerange]...]\n",
    "attribute = [[0, 10, 1], [0, 1, 1], [0, 1, 1]]\n",
    "attnames = [\"hieght\", \"stripes\", \"spots\"]\n",
    "classnames = [\"human\", \"giraff\", \"lion\"]\n",
    "\n",
    "X = [[5.5, 0, 0],\n",
    "     [6, 0, 0],\n",
    "     [5, 0, 0],\n",
    "     [6.5, 0, 0],\n",
    "     [2.3, 0, 1], \n",
    "     [4, 0, 1],\n",
    "     [3, 0, 1],\n",
    "     [4.5, 0, 1],\n",
    "     [7, 1, 0],\n",
    "     [9, 1, 0],\n",
    "     [10, 1, 0],\n",
    "     [6.5, 1, 0]]\n",
    "     \n",
    "y = [\"human\",\n",
    "     \"human\",\n",
    "     \"human\",\n",
    "     \"human\",\n",
    "     \"lion\",\n",
    "     \"lion\",\n",
    "     \"lion\",\n",
    "     \"lion\",\n",
    "     \"giraff\",\n",
    "     \"giraff\",\n",
    "     \"giraff\",\n",
    "     \"giraff\"]\n",
    "\n",
    "inittreenum = 99\n",
    "\n",
    "makeforest(inittreenum)\n",
    "\n",
    "for x in range(1000):\n",
    "    \n",
    "    #have each tree go through 5 random pieces of data. One wrong classification and the tree is killed\n",
    "    testtrees(5)\n",
    "    print(\"number of trees after killing\", len(forest))\n",
    "    \n",
    "    #if there is is less than half the trees we started with, this will breed the trees by adding some with little \n",
    "    #change, 'tweaking', and some with lots of change 'change'ing.\n",
    "    breedforest(int((inittreenum - len(forest))/len(forest)), int((inittreenum - len(forest))/len(forest)))\n",
    "    print(\"regrowth\", len(forest))\n",
    "    \n",
    "#Prints the first five trees so we get an idea of the model\n",
    "for x in range(5):\n",
    "    printtree(forest[x])\n",
    "    print('')"
   ]
  },
  {
   "cell_type": "code",
   "execution_count": 427,
   "metadata": {},
   "outputs": [],
   "source": [
    "\"\"\"\n",
    "Give each tree x number of random pieces of data. If a tree gets one wrong, the tree is killed\n",
    "\"\"\"\n",
    "def testtrees(x):\n",
    "    for y in range(x):\n",
    "        for tree in forest:\n",
    "            if killtree(tree, random.randint(0, len(X)-1)):\n",
    "                forest.remove(tree)"
   ]
  },
  {
   "cell_type": "code",
   "execution_count": 441,
   "metadata": {},
   "outputs": [],
   "source": [
    "\"\"\"\n",
    "takes all the remaining trees in forest and makes x number of similar duplicates, 'tweaking', and z number \n",
    "of unsimilar duplicates 'change'ing for each tree\n",
    "\"\"\"\n",
    "def breedforest(x, z):\n",
    "    global forest\n",
    "    newforest = []\n",
    "    for tree in forest:\n",
    "        newforest.append(tree)\n",
    "        for y in range(x):\n",
    "            newforest.append(tweaktree(tree))\n",
    "        for y in range(z):\n",
    "            newforest.append(changetree(tree))\n",
    "    forest = newforest"
   ]
  },
  {
   "cell_type": "code",
   "execution_count": null,
   "metadata": {
    "collapsed": true
   },
   "outputs": [],
   "source": [
    "\"\"\"\n",
    "takes a tree and changing the value each node is split at by a random ammount within the limit specified \n",
    "for that attribute in the 'attribute' array and returning the slightly new tree\n",
    "\"\"\"\n",
    "def tweaktree(tree):\n",
    "    child = numpy.array(tree)\n",
    "    for node in child:\n",
    "        newsplit = node[1] + random.randint(-attribute[node[0]][2], attribute[node[0]][2])\n",
    "        while newsplit > attribute[node[0]][1] or newsplit < attribute[node[0]][0]:\n",
    "             newsplit = node[1] + random.randint(-attribute[node[0]][2], attribute[node[0]][2])\n",
    "        node[1] = newsplit\n",
    "    child = numpy.ndarray.tolist(child)\n",
    "    return child"
   ]
  },
  {
   "cell_type": "code",
   "execution_count": 466,
   "metadata": {
    "collapsed": true
   },
   "outputs": [],
   "source": [
    "\"\"\"\n",
    "takes a tree and changes one node to a different attribute or class. This would be a bigger change\n",
    "\"\"\"\n",
    "def changetree(tree):\n",
    "    child = numpy.array(tree)\n",
    "    changenode = random.randint(0, len(tree) - 1)\n",
    "    if child[changenode][0] == -1:\n",
    "        child[changenode] = leaf()\n",
    "    else:\n",
    "        child[changenode] = node()\n",
    "    child = numpy.ndarray.tolist(child)\n",
    "    return child"
   ]
  },
  {
   "cell_type": "code",
   "execution_count": 467,
   "metadata": {
    "collapsed": true
   },
   "outputs": [],
   "source": [
    "\"\"\"\n",
    "Makes a forest of 'a' number of trees\n",
    "\"\"\"\n",
    "def makeforest(a):\n",
    "    global forest\n",
    "    forest = []\n",
    "    for x in range(0,a):\n",
    "        #print(x)\n",
    "        forest.append(maketree())\n",
    "    #print(forest)"
   ]
  },
  {
   "cell_type": "code",
   "execution_count": 475,
   "metadata": {},
   "outputs": [],
   "source": [
    "\"\"\"\n",
    "Makes a tree\n",
    "\"\"\"\n",
    "#tree = [[attribute#, split value], [leftattribute#, split value], [rightsplitnum#, split value]]\n",
    "def maketree():\n",
    "    tree = [node(), node(), node(), leaf(), leaf(), leaf(), leaf()]\n",
    "    return tree"
   ]
  },
  {
   "cell_type": "code",
   "execution_count": 470,
   "metadata": {
    "collapsed": true
   },
   "outputs": [],
   "source": [
    "\"\"\"\n",
    "returns a node with a random attribute and random splitting point for that attribute\n",
    "\"\"\"\n",
    "def node():\n",
    "    att = random.randint(0,len(attribute)-1)\n",
    "    return [att, random.randint(attribute[att][0], attribute[att][1])]"
   ]
  },
  {
   "cell_type": "code",
   "execution_count": 471,
   "metadata": {},
   "outputs": [],
   "source": [
    "\"\"\"\n",
    "returns a leaf with a random class\n",
    "\"\"\"\n",
    "def leaf():\n",
    "    cl = random.randint(0,len(classnames)-1)\n",
    "    return [-1, cl]"
   ]
  },
  {
   "cell_type": "code",
   "execution_count": 363,
   "metadata": {},
   "outputs": [],
   "source": [
    "\"\"\"\n",
    "Takes a tree and an index number for a random piece of data and tests to see if that tree\n",
    "models that data correctly\n",
    "\"\"\"\n",
    "def killtree(tree, x):\n",
    "    data = X[x]\n",
    "    if tree[0][1] >= data[tree[0][0]]:\n",
    "        if tree[1][1] >= data[tree[1][0]]:\n",
    "            if classnames[tree[3][1]] == y[x]:\n",
    "                return False\n",
    "        else:\n",
    "            if classnames[tree[4][1]] == y[x]:\n",
    "                return False\n",
    "    else:\n",
    "        if tree[2][1] >= data[tree[2][0]]:\n",
    "            if classnames[tree[5][1]] == y[x]:\n",
    "                return False\n",
    "        else:\n",
    "            if classnames[tree[6][1]] == y[x]:\n",
    "                return False\n",
    "    return True\n",
    "        "
   ]
  },
  {
   "cell_type": "code",
   "execution_count": 482,
   "metadata": {
    "collapsed": true
   },
   "outputs": [],
   "source": [
    "\"\"\"\n",
    "Takes a tree and prints it out in a nice readable way\n",
    "\"\"\"\n",
    "def printtree(tree):\n",
    "    print('\\t\\t   ' + str(attnames[tree[0][0]]) + '<=' + str(tree[0][1]))\n",
    "    print('')\n",
    "    print('\\t' + str(attnames[tree[1][0]]) + '<=' + str(tree[1][1]) + \n",
    "          '\\t\\t' + str(attnames[tree[2][0]]) + '<=' + str(tree[2][1]))\n",
    "    print('')\n",
    "    print(str(classnames[tree[3][1]]) +'\\t\\t' + str(classnames[tree[4][1]]) \n",
    "          + '\\t' + str(classnames[tree[5][1]]) + '\\t\\t' + str(classnames[tree[6][1]]))"
   ]
  },
  {
   "cell_type": "code",
   "execution_count": null,
   "metadata": {
    "collapsed": true
   },
   "outputs": [],
   "source": []
  }
 ],
 "metadata": {
  "kernelspec": {
   "display_name": "Python 2",
   "language": "python",
   "name": "python2"
  },
  "language_info": {
   "codemirror_mode": {
    "name": "ipython",
    "version": 2
   },
   "file_extension": ".py",
   "mimetype": "text/x-python",
   "name": "python",
   "nbconvert_exporter": "python",
   "pygments_lexer": "ipython2",
   "version": "2.7.13"
  }
 },
 "nbformat": 4,
 "nbformat_minor": 2
}
